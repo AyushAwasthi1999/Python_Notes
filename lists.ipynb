{
 "cells": [
  {
   "cell_type": "markdown",
   "id": "fc79da17",
   "metadata": {},
   "source": [
    "# LISTS"
   ]
  },
  {
   "cell_type": "markdown",
   "id": "c015ff55",
   "metadata": {},
   "source": [
    "## DEF :- pythons lists are container to store a set of values of any data type\n",
    "\n",
    "## lists is a ordered values"
   ]
  },
  {
   "cell_type": "code",
   "execution_count": 1,
   "id": "293c7121",
   "metadata": {},
   "outputs": [
    {
     "name": "stdout",
     "output_type": "stream",
     "text": [
      "[1, 2, 3, 4, 56, 6]\n"
     ]
    },
    {
     "ename": "TypeError",
     "evalue": "'list' object is not callable",
     "output_type": "error",
     "traceback": [
      "\u001b[1;31m---------------------------------------------------------------------------\u001b[0m",
      "\u001b[1;31mTypeError\u001b[0m                                 Traceback (most recent call last)",
      "Input \u001b[1;32mIn [1]\u001b[0m, in \u001b[0;36m<cell line: 10>\u001b[1;34m()\u001b[0m\n\u001b[0;32m      7\u001b[0m \u001b[38;5;28mprint\u001b[39m(a)\n\u001b[0;32m      9\u001b[0m \u001b[38;5;66;03m# ACCESS USING INDEX USING a / a(0),a(1),a(2)\u001b[39;00m\n\u001b[1;32m---> 10\u001b[0m \u001b[38;5;28mprint\u001b[39m [\u001b[43ma\u001b[49m\u001b[43m(\u001b[49m\u001b[38;5;241;43m2\u001b[39;49m\u001b[43m)\u001b[49m]\n\u001b[0;32m     12\u001b[0m \u001b[38;5;66;03m# CHANGE THE VALUE OF LIST USING \u001b[39;00m\n\u001b[0;32m     13\u001b[0m a[\u001b[38;5;241m0\u001b[39m] \u001b[38;5;241m=\u001b[39m \u001b[38;5;241m98\u001b[39m\n",
      "\u001b[1;31mTypeError\u001b[0m: 'list' object is not callable"
     ]
    }
   ],
   "source": [
    "### FOR EXAMPLES\n",
    "\n",
    "# CREATE A LIST USING[]\n",
    "a = [1,2,3,4,56,6]\n",
    "\n",
    "# PRINT THE LISTS USING PRINT() FUNCTION\n",
    "print(a)\n",
    "\n",
    "# ACCESS USING INDEX USING a / a(0),a(1),a(2)\n",
    "print [a(2)]\n",
    "\n",
    "# CHANGE THE VALUE OF LIST USING \n",
    "a[0] = 98\n",
    "\n",
    "# WE CAN CREATE A LIST WITH ITEM OF DIFFERENT TYPES\n",
    "C= [45,\"AYUSH\",FALSE,6.9]"
   ]
  },
  {
   "cell_type": "markdown",
   "id": "6badaf7b",
   "metadata": {},
   "source": [
    "# LIST SLICING (+)"
   ]
  },
  {
   "cell_type": "code",
   "execution_count": 2,
   "id": "27cb82de",
   "metadata": {},
   "outputs": [
    {
     "name": "stdout",
     "output_type": "stream",
     "text": [
      "['ayush', 'tom', 'harry', 45]\n"
     ]
    }
   ],
   "source": [
    "friends=[\"ayush\",\"tom\",\"harry\",45,56,78,9]\n",
    "print(friends[0:4])"
   ]
  },
  {
   "cell_type": "markdown",
   "id": "1ee0c04b",
   "metadata": {},
   "source": [
    "# LIST SLICING (-)"
   ]
  },
  {
   "cell_type": "code",
   "execution_count": 4,
   "id": "0384a02c",
   "metadata": {},
   "outputs": [
    {
     "name": "stdout",
     "output_type": "stream",
     "text": [
      "['ayush', 'tom', 'harry']\n"
     ]
    }
   ],
   "source": [
    "friends=[\"ayush\",\"tom\",\"harry\",45,56,78,9]\n",
    "print(friends[0:-4])"
   ]
  },
  {
   "cell_type": "code",
   "execution_count": null,
   "id": "b190f4da",
   "metadata": {},
   "outputs": [],
   "source": []
  }
 ],
 "metadata": {
  "kernelspec": {
   "display_name": "Python 3 (ipykernel)",
   "language": "python",
   "name": "python3"
  },
  "language_info": {
   "codemirror_mode": {
    "name": "ipython",
    "version": 3
   },
   "file_extension": ".py",
   "mimetype": "text/x-python",
   "name": "python",
   "nbconvert_exporter": "python",
   "pygments_lexer": "ipython3",
   "version": "3.9.12"
  }
 },
 "nbformat": 4,
 "nbformat_minor": 5
}
